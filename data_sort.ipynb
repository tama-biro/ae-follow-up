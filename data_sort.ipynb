{
 "cells": [
  {
   "cell_type": "code",
   "execution_count": 2,
   "metadata": {},
   "outputs": [],
   "source": [
    "import pandas as pd\n",
    "import numpy as np\n",
    "import os"
   ]
  },
  {
   "cell_type": "code",
   "execution_count": 5,
   "metadata": {},
   "outputs": [
    {
     "ename": "KeyError",
     "evalue": "'Time'",
     "output_type": "error",
     "traceback": [
      "\u001b[1;31m---------------------------------------------------------------------------\u001b[0m",
      "\u001b[1;31mKeyError\u001b[0m                                  Traceback (most recent call last)",
      "File \u001b[1;32m~\\miniconda3\\envs\\t-dab-environment\\lib\\site-packages\\pandas\\core\\indexes\\base.py:3361\u001b[0m, in \u001b[0;36mIndex.get_loc\u001b[1;34m(self, key, method, tolerance)\u001b[0m\n\u001b[0;32m   <a href='file:///~/miniconda3/envs/t-dab-environment/lib/site-packages/pandas/core/indexes/base.py?line=3359'>3360</a>\u001b[0m \u001b[39mtry\u001b[39;00m:\n\u001b[1;32m-> <a href='file:///~/miniconda3/envs/t-dab-environment/lib/site-packages/pandas/core/indexes/base.py?line=3360'>3361</a>\u001b[0m     \u001b[39mreturn\u001b[39;00m \u001b[39mself\u001b[39;49m\u001b[39m.\u001b[39;49m_engine\u001b[39m.\u001b[39;49mget_loc(casted_key)\n\u001b[0;32m   <a href='file:///~/miniconda3/envs/t-dab-environment/lib/site-packages/pandas/core/indexes/base.py?line=3361'>3362</a>\u001b[0m \u001b[39mexcept\u001b[39;00m \u001b[39mKeyError\u001b[39;00m \u001b[39mas\u001b[39;00m err:\n",
      "File \u001b[1;32m~\\miniconda3\\envs\\t-dab-environment\\lib\\site-packages\\pandas\\_libs\\index.pyx:76\u001b[0m, in \u001b[0;36mpandas._libs.index.IndexEngine.get_loc\u001b[1;34m()\u001b[0m\n",
      "File \u001b[1;32m~\\miniconda3\\envs\\t-dab-environment\\lib\\site-packages\\pandas\\_libs\\index.pyx:108\u001b[0m, in \u001b[0;36mpandas._libs.index.IndexEngine.get_loc\u001b[1;34m()\u001b[0m\n",
      "File \u001b[1;32mpandas\\_libs\\hashtable_class_helper.pxi:5198\u001b[0m, in \u001b[0;36mpandas._libs.hashtable.PyObjectHashTable.get_item\u001b[1;34m()\u001b[0m\n",
      "File \u001b[1;32mpandas\\_libs\\hashtable_class_helper.pxi:5206\u001b[0m, in \u001b[0;36mpandas._libs.hashtable.PyObjectHashTable.get_item\u001b[1;34m()\u001b[0m\n",
      "\u001b[1;31mKeyError\u001b[0m: 'Time'",
      "\nThe above exception was the direct cause of the following exception:\n",
      "\u001b[1;31mKeyError\u001b[0m                                  Traceback (most recent call last)",
      "\u001b[1;32mc:\\Users\\samue\\Documents\\GitHub\\ae-follow-up\\data_sort.ipynb Cell 2'\u001b[0m in \u001b[0;36m<module>\u001b[1;34m\u001b[0m\n\u001b[0;32m     <a href='vscode-notebook-cell:/c%3A/Users/samue/Documents/GitHub/ae-follow-up/data_sort.ipynb#ch0000001?line=49'>50</a>\u001b[0m temp \u001b[39m=\u001b[39m pd\u001b[39m.\u001b[39mread_csv(path_to_txt, sep\u001b[39m=\u001b[39m\u001b[39m'\u001b[39m\u001b[39m\\t\u001b[39;00m\u001b[39m'\u001b[39m)\n\u001b[0;32m     <a href='vscode-notebook-cell:/c%3A/Users/samue/Documents/GitHub/ae-follow-up/data_sort.ipynb#ch0000001?line=51'>52</a>\u001b[0m \u001b[39m# Remove (s) from time variable\u001b[39;00m\n\u001b[1;32m---> <a href='vscode-notebook-cell:/c%3A/Users/samue/Documents/GitHub/ae-follow-up/data_sort.ipynb#ch0000001?line=52'>53</a>\u001b[0m temp[\u001b[39m'\u001b[39m\u001b[39mTime\u001b[39m\u001b[39m'\u001b[39m] \u001b[39m=\u001b[39m [\u001b[39mfloat\u001b[39m(s\u001b[39m.\u001b[39mreplace(\u001b[39m'\u001b[39m\u001b[39m(s)\u001b[39m\u001b[39m'\u001b[39m, \u001b[39m'\u001b[39m\u001b[39m'\u001b[39m)) \u001b[39mfor\u001b[39;00m s \u001b[39min\u001b[39;00m temp[\u001b[39m'\u001b[39;49m\u001b[39mTime\u001b[39;49m\u001b[39m'\u001b[39;49m]]\n\u001b[0;32m     <a href='vscode-notebook-cell:/c%3A/Users/samue/Documents/GitHub/ae-follow-up/data_sort.ipynb#ch0000001?line=54'>55</a>\u001b[0m \u001b[39m# Make cols lowercase\u001b[39;00m\n\u001b[0;32m     <a href='vscode-notebook-cell:/c%3A/Users/samue/Documents/GitHub/ae-follow-up/data_sort.ipynb#ch0000001?line=55'>56</a>\u001b[0m temp\u001b[39m.\u001b[39mcolumns \u001b[39m=\u001b[39m [col\u001b[39m.\u001b[39mlower() \u001b[39mfor\u001b[39;00m col \u001b[39min\u001b[39;00m temp\u001b[39m.\u001b[39mcolumns]\n",
      "File \u001b[1;32m~\\miniconda3\\envs\\t-dab-environment\\lib\\site-packages\\pandas\\core\\frame.py:3458\u001b[0m, in \u001b[0;36mDataFrame.__getitem__\u001b[1;34m(self, key)\u001b[0m\n\u001b[0;32m   <a href='file:///~/miniconda3/envs/t-dab-environment/lib/site-packages/pandas/core/frame.py?line=3455'>3456</a>\u001b[0m \u001b[39mif\u001b[39;00m \u001b[39mself\u001b[39m\u001b[39m.\u001b[39mcolumns\u001b[39m.\u001b[39mnlevels \u001b[39m>\u001b[39m \u001b[39m1\u001b[39m:\n\u001b[0;32m   <a href='file:///~/miniconda3/envs/t-dab-environment/lib/site-packages/pandas/core/frame.py?line=3456'>3457</a>\u001b[0m     \u001b[39mreturn\u001b[39;00m \u001b[39mself\u001b[39m\u001b[39m.\u001b[39m_getitem_multilevel(key)\n\u001b[1;32m-> <a href='file:///~/miniconda3/envs/t-dab-environment/lib/site-packages/pandas/core/frame.py?line=3457'>3458</a>\u001b[0m indexer \u001b[39m=\u001b[39m \u001b[39mself\u001b[39;49m\u001b[39m.\u001b[39;49mcolumns\u001b[39m.\u001b[39;49mget_loc(key)\n\u001b[0;32m   <a href='file:///~/miniconda3/envs/t-dab-environment/lib/site-packages/pandas/core/frame.py?line=3458'>3459</a>\u001b[0m \u001b[39mif\u001b[39;00m is_integer(indexer):\n\u001b[0;32m   <a href='file:///~/miniconda3/envs/t-dab-environment/lib/site-packages/pandas/core/frame.py?line=3459'>3460</a>\u001b[0m     indexer \u001b[39m=\u001b[39m [indexer]\n",
      "File \u001b[1;32m~\\miniconda3\\envs\\t-dab-environment\\lib\\site-packages\\pandas\\core\\indexes\\base.py:3363\u001b[0m, in \u001b[0;36mIndex.get_loc\u001b[1;34m(self, key, method, tolerance)\u001b[0m\n\u001b[0;32m   <a href='file:///~/miniconda3/envs/t-dab-environment/lib/site-packages/pandas/core/indexes/base.py?line=3360'>3361</a>\u001b[0m         \u001b[39mreturn\u001b[39;00m \u001b[39mself\u001b[39m\u001b[39m.\u001b[39m_engine\u001b[39m.\u001b[39mget_loc(casted_key)\n\u001b[0;32m   <a href='file:///~/miniconda3/envs/t-dab-environment/lib/site-packages/pandas/core/indexes/base.py?line=3361'>3362</a>\u001b[0m     \u001b[39mexcept\u001b[39;00m \u001b[39mKeyError\u001b[39;00m \u001b[39mas\u001b[39;00m err:\n\u001b[1;32m-> <a href='file:///~/miniconda3/envs/t-dab-environment/lib/site-packages/pandas/core/indexes/base.py?line=3362'>3363</a>\u001b[0m         \u001b[39mraise\u001b[39;00m \u001b[39mKeyError\u001b[39;00m(key) \u001b[39mfrom\u001b[39;00m \u001b[39merr\u001b[39;00m\n\u001b[0;32m   <a href='file:///~/miniconda3/envs/t-dab-environment/lib/site-packages/pandas/core/indexes/base.py?line=3364'>3365</a>\u001b[0m \u001b[39mif\u001b[39;00m is_scalar(key) \u001b[39mand\u001b[39;00m isna(key) \u001b[39mand\u001b[39;00m \u001b[39mnot\u001b[39;00m \u001b[39mself\u001b[39m\u001b[39m.\u001b[39mhasnans:\n\u001b[0;32m   <a href='file:///~/miniconda3/envs/t-dab-environment/lib/site-packages/pandas/core/indexes/base.py?line=3365'>3366</a>\u001b[0m     \u001b[39mraise\u001b[39;00m \u001b[39mKeyError\u001b[39;00m(key)\n",
      "\u001b[1;31mKeyError\u001b[0m: 'Time'"
     ]
    }
   ],
   "source": [
    "columns = ['type', 'mean_1', 'stddev_1', 'mean_2', 'stddev_2', 'results', 'time']\n",
    "\n",
    "added_cols = ['age', 'gender', 'smoker', 'background', 'date']\n",
    "\n",
    "added_cols2 = ['condition', 'experiment']\n",
    "\n",
    "empty = pd.DataFrame(columns=columns+added_cols+added_cols2)\n",
    "\n",
    "data_path = 'C:/Users/samue/Downloads/data_aftereffect_Sam_finance_paper/'\n",
    "\n",
    "# Go through condition folders\n",
    "for cond in os.listdir(data_path):\n",
    "    condition_path = os.path.join(data_path, cond)\n",
    "\n",
    "    # If condition 'T1', we iterate through txt files\n",
    "    if cond == 'T1':\n",
    "        for p in os.listdir(condition_path):\n",
    "            # Get path to file\n",
    "            path_to_txt = os.path.join(condition_path, p)\n",
    "\n",
    "            # Read tsv\n",
    "            temp = pd.read_csv(path_to_txt, sep='\\t')\n",
    "\n",
    "            # Make cols lowercase\n",
    "            temp.columns = [col.lower() for col in temp.columns]\n",
    "\n",
    "            # Remove (s) from time variable\n",
    "            temp['time'] = [float(s.replace('(s)', '')) for s in temp['time']]\n",
    "\n",
    "            # Id added_cols not in columns, add NAN\n",
    "            if len(added_cols) != len(set(added_cols).intersection(set(temp.columns))):\n",
    "                temp[added_cols] = np.nan\n",
    "\n",
    "            # Add condition and experiment\n",
    "            temp['condition'] = cond\n",
    "            temp['experiment'] = np.nan\n",
    "\n",
    "            # Concat and reset index\n",
    "            empty = pd.concat([empty, temp], axis = 0)\n",
    "            empty.reset_index(inplace=True, drop=True)\n",
    "    else:\n",
    "        for exp in os.listdir(condition_path):\n",
    "            exp_path = os.path.join(condition_path, exp)\n",
    "\n",
    "            for p in os.listdir(exp_path):\n",
    "                # Get path to file\n",
    "                path_to_txt = os.path.join(exp_path, p)\n",
    "\n",
    "                # Read tsv\n",
    "                temp = pd.read_csv(path_to_txt, sep='\\t')\n",
    "\n",
    "                # Make cols lowercase\n",
    "                temp.columns = [col.lower() for col in temp.columns]\n",
    "\n",
    "                # Remove (s) from time variable\n",
    "                temp['time'] = [float(s.replace('(s)', '')) for s in temp['time']]\n",
    "\n",
    "                # Id added_cols not in columns, add NAN\n",
    "                if len(added_cols) != len(set(added_cols).intersection(set(temp.columns))):\n",
    "                    temp[added_cols] = np.nan\n",
    "\n",
    "                # Add condition and experiment\n",
    "                temp['condition'] = cond\n",
    "                temp['experiment'] = exp\n",
    "\n",
    "                # Concat and reset index\n",
    "                empty = pd.concat([empty, temp], axis = 0)\n",
    "                empty.reset_index(inplace=True, drop=True)\n",
    "\n"
   ]
  },
  {
   "cell_type": "code",
   "execution_count": 18,
   "metadata": {},
   "outputs": [
    {
     "data": {
      "text/plain": [
       "0"
      ]
     },
     "execution_count": 18,
     "metadata": {},
     "output_type": "execute_result"
    }
   ],
   "source": []
  },
  {
   "cell_type": "code",
   "execution_count": null,
   "metadata": {},
   "outputs": [],
   "source": []
  },
  {
   "cell_type": "code",
   "execution_count": null,
   "metadata": {},
   "outputs": [],
   "source": []
  }
 ],
 "metadata": {
  "interpreter": {
   "hash": "17973982fec9af107568ee40efb93c7cf93eafe0cc0f3f62b7de7783b5483d03"
  },
  "kernelspec": {
   "display_name": "Python 3.9.7 ('t-dab-environment')",
   "language": "python",
   "name": "python3"
  },
  "language_info": {
   "codemirror_mode": {
    "name": "ipython",
    "version": 3
   },
   "file_extension": ".py",
   "mimetype": "text/x-python",
   "name": "python",
   "nbconvert_exporter": "python",
   "pygments_lexer": "ipython3",
   "version": "3.9.7"
  },
  "orig_nbformat": 4
 },
 "nbformat": 4,
 "nbformat_minor": 2
}
