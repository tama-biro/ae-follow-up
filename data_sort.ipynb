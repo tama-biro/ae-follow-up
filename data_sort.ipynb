{
 "cells": [
  {
   "cell_type": "code",
   "execution_count": 2,
   "metadata": {},
   "outputs": [],
   "source": [
    "import pandas as pd\n",
    "import numpy as np\n",
    "import os"
   ]
  },
  {
   "cell_type": "code",
   "execution_count": 8,
   "metadata": {},
   "outputs": [],
   "source": [
    "columns = ['type', 'mean_1', 'stddev_1', 'mean_2', 'stddev_2', 'results', 'time']\n",
    "\n",
    "added_cols = ['age', 'gender', 'smoker', 'background', 'date']\n",
    "\n",
    "added_cols2 = ['condition', 'experiment', 'ID']\n",
    "\n",
    "empty = pd.DataFrame(columns=columns+added_cols+added_cols2)\n",
    "\n",
    "data_path = 'C:/Users/samue/Downloads/data_aftereffect_Sam_finance_paper/'\n",
    "\n",
    "id = 1\n",
    "\n",
    "# Go through condition folders\n",
    "for cond in os.listdir(data_path):\n",
    "    condition_path = os.path.join(data_path, cond)\n",
    "\n",
    "    # If condition 'T1', we iterate through txt files\n",
    "    if cond == 'T1':\n",
    "        for p in os.listdir(condition_path):\n",
    "            # Get path to file\n",
    "            path_to_txt = os.path.join(condition_path, p)\n",
    "\n",
    "            # Read tsv\n",
    "            temp = pd.read_csv(path_to_txt, sep='\\t')\n",
    "\n",
    "            # Make cols lowercase\n",
    "            temp.columns = [col.lower() for col in temp.columns]\n",
    "\n",
    "            # Remove (s) from time variable\n",
    "            temp['time'] = [float(s.replace('(s)', '')) for s in temp['time']]\n",
    "\n",
    "            # Id added_cols not in columns, add NAN\n",
    "            if len(added_cols) != len(set(added_cols).intersection(set(temp.columns))):\n",
    "                temp[added_cols] = np.nan\n",
    "\n",
    "            # Add condition, experiment and ID\n",
    "            temp['condition'] = cond\n",
    "            temp['experiment'] = np.nan\n",
    "            temp['ID'] = id\n",
    "\n",
    "            id += 1\n",
    "\n",
    "            # Concat and reset index\n",
    "            empty = pd.concat([empty, temp], axis = 0)\n",
    "            empty.reset_index(inplace=True, drop=True)\n",
    "    else:\n",
    "        for exp in os.listdir(condition_path):\n",
    "            exp_path = os.path.join(condition_path, exp)\n",
    "\n",
    "            for p in os.listdir(exp_path):\n",
    "                # Get path to file\n",
    "                path_to_txt = os.path.join(exp_path, p)\n",
    "\n",
    "                # Read tsv\n",
    "                temp = pd.read_csv(path_to_txt, sep='\\t')\n",
    "\n",
    "                # Make cols lowercase\n",
    "                temp.columns = [col.lower() for col in temp.columns]\n",
    "\n",
    "                # Remove (s) from time variable\n",
    "                temp['time'] = [float(s.replace('(s)', '')) for s in temp['time']]\n",
    "\n",
    "                # Id added_cols not in columns, add NAN\n",
    "                if len(added_cols) != len(set(added_cols).intersection(set(temp.columns))):\n",
    "                    temp[added_cols] = np.nan\n",
    "\n",
    "                # Add condition, experiment and ID\n",
    "                temp['condition'] = cond\n",
    "                temp['experiment'] = np.nan\n",
    "                temp['ID'] = id\n",
    "\n",
    "                id += 1\n",
    "\n",
    "                # Concat and reset index\n",
    "                empty = pd.concat([empty, temp], axis = 0)\n",
    "                empty.reset_index(inplace=True, drop=True)\n",
    "\n"
   ]
  },
  {
   "cell_type": "code",
   "execution_count": 10,
   "metadata": {},
   "outputs": [],
   "source": [
    "empty.to_csv('data_combined.csv', index=False)"
   ]
  },
  {
   "cell_type": "code",
   "execution_count": null,
   "metadata": {},
   "outputs": [],
   "source": []
  },
  {
   "cell_type": "code",
   "execution_count": null,
   "metadata": {},
   "outputs": [],
   "source": []
  }
 ],
 "metadata": {
  "interpreter": {
   "hash": "17973982fec9af107568ee40efb93c7cf93eafe0cc0f3f62b7de7783b5483d03"
  },
  "kernelspec": {
   "display_name": "Python 3.9.7 ('t-dab-environment')",
   "language": "python",
   "name": "python3"
  },
  "language_info": {
   "codemirror_mode": {
    "name": "ipython",
    "version": 3
   },
   "file_extension": ".py",
   "mimetype": "text/x-python",
   "name": "python",
   "nbconvert_exporter": "python",
   "pygments_lexer": "ipython3",
   "version": "3.9.7"
  },
  "orig_nbformat": 4
 },
 "nbformat": 4,
 "nbformat_minor": 2
}
